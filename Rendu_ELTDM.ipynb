{
 "cells": [
  {
   "cell_type": "markdown",
   "metadata": {},
   "source": [
    "# Parallel Convolutional Neural Network"
   ]
  },
  {
   "cell_type": "code",
   "execution_count": 17,
   "metadata": {},
   "outputs": [
    {
     "data": {
      "text/html": [
       "<div id=\"my_id_menu_nb\">run previous cell, wait for 2 seconds</div>\n",
       "<script>\n",
       "function repeat_indent_string(n){\n",
       "    var a = \"\" ;\n",
       "    for ( ; n > 0 ; --n)\n",
       "        a += \"    \";\n",
       "    return a;\n",
       "}\n",
       "// look up into all sections and builds an automated menu //\n",
       "var update_menu_string = function(begin, lfirst, llast, sformat, send, keep_item, begin_format, end_format) {\n",
       "    var anchors = document.getElementsByClassName(\"section\");\n",
       "    if (anchors.length == 0) {\n",
       "        anchors = document.getElementsByClassName(\"text_cell_render rendered_html\");\n",
       "    }\n",
       "    var i,t;\n",
       "    var text_menu = begin;\n",
       "    var text_memo = \"<pre>\\nlength:\" + anchors.length + \"\\n\";\n",
       "    var ind = \"\";\n",
       "    var memo_level = 1;\n",
       "    var href;\n",
       "    var tags = [];\n",
       "    var main_item = 0;\n",
       "    var format_open = 0;\n",
       "    for (i = 0; i <= llast; i++)\n",
       "        tags.push(\"h\" + i);\n",
       "\n",
       "    for (i = 0; i < anchors.length; i++) {\n",
       "        text_memo += \"**\" + anchors[i].id + \"--\\n\";\n",
       "\n",
       "        var child = null;\n",
       "        for(t = 0; t < tags.length; t++) {\n",
       "            var r = anchors[i].getElementsByTagName(tags[t]);\n",
       "            if (r.length > 0) {\n",
       "child = r[0];\n",
       "break;\n",
       "            }\n",
       "        }\n",
       "        if (child == null) {\n",
       "            text_memo += \"null\\n\";\n",
       "            continue;\n",
       "        }\n",
       "        if (anchors[i].hasAttribute(\"id\")) {\n",
       "            // when converted in RST\n",
       "            href = anchors[i].id;\n",
       "            text_memo += \"#1-\" + href;\n",
       "            // passer à child suivant (le chercher)\n",
       "        }\n",
       "        else if (child.hasAttribute(\"id\")) {\n",
       "            // in a notebook\n",
       "            href = child.id;\n",
       "            text_memo += \"#2-\" + href;\n",
       "        }\n",
       "        else {\n",
       "            text_memo += \"#3-\" + \"*\" + \"\\n\";\n",
       "            continue;\n",
       "        }\n",
       "        var title = child.textContent;\n",
       "        var level = parseInt(child.tagName.substring(1,2));\n",
       "\n",
       "        text_memo += \"--\" + level + \"?\" + lfirst + \"--\" + title + \"\\n\";\n",
       "\n",
       "        if ((level < lfirst) || (level > llast)) {\n",
       "            continue ;\n",
       "        }\n",
       "        if (title.endsWith('¶')) {\n",
       "            title = title.substring(0,title.length-1).replace(\"<\", \"&lt;\")\n",
       "         .replace(\">\", \"&gt;\").replace(\"&\", \"&amp;\");\n",
       "        }\n",
       "        if (title.length == 0) {\n",
       "            continue;\n",
       "        }\n",
       "\n",
       "        while (level < memo_level) {\n",
       "            text_menu += end_format + \"</ul>\\n\";\n",
       "            format_open -= 1;\n",
       "            memo_level -= 1;\n",
       "        }\n",
       "        if (level == lfirst) {\n",
       "            main_item += 1;\n",
       "        }\n",
       "        if (keep_item != -1 && main_item != keep_item + 1) {\n",
       "            // alert(main_item + \" - \" + level + \" - \" + keep_item);\n",
       "            continue;\n",
       "        }\n",
       "        while (level > memo_level) {\n",
       "            text_menu += \"<ul>\\n\";\n",
       "            memo_level += 1;\n",
       "        }\n",
       "        text_menu += repeat_indent_string(level-2);\n",
       "        text_menu += begin_format + sformat.replace(\"__HREF__\", href).replace(\"__TITLE__\", title);\n",
       "        format_open += 1;\n",
       "    }\n",
       "    while (1 < memo_level) {\n",
       "        text_menu += end_format + \"</ul>\\n\";\n",
       "        memo_level -= 1;\n",
       "        format_open -= 1;\n",
       "    }\n",
       "    text_menu += send;\n",
       "    //text_menu += \"\\n\" + text_memo;\n",
       "\n",
       "    while (format_open > 0) {\n",
       "        text_menu += end_format;\n",
       "        format_open -= 1;\n",
       "    }\n",
       "    return text_menu;\n",
       "};\n",
       "var update_menu = function() {\n",
       "    var sbegin = \"\";\n",
       "    var sformat = '<a href=\"#__HREF__\">__TITLE__</a>';\n",
       "    var send = \"\";\n",
       "    var begin_format = '<li>';\n",
       "    var end_format = '</li>';\n",
       "    var keep_item = -1;\n",
       "    var text_menu = update_menu_string(sbegin, 2, 4, sformat, send, keep_item,\n",
       "       begin_format, end_format);\n",
       "    var menu = document.getElementById(\"my_id_menu_nb\");\n",
       "    menu.innerHTML=text_menu;\n",
       "};\n",
       "window.setTimeout(update_menu,2000);\n",
       "            </script>"
      ],
      "text/plain": [
       "<IPython.core.display.HTML object>"
      ]
     },
     "execution_count": 17,
     "metadata": {},
     "output_type": "execute_result"
    }
   ],
   "source": [
    "from jyquickhelper import add_notebook_menu\n",
    "add_notebook_menu()"
   ]
  },
  {
   "cell_type": "markdown",
   "metadata": {},
   "source": [
    "For our project we have decided to create a __CNN__, using the package __Numba__, whith which you can write __cuda__ functions while keeping  the python syntax. <br> <br>\n",
    "We proceeded by taking a fully constructed CNN in numpy here : https://github.com/Alescontrela/Numpy-CNN <br>\n",
    "After making sure this code was right, we used it as our skeleton to define and use our parrellel functions, that we wrote using Numba.<br>\n",
    "Once the parallel CNN was build and worked, we designed this notebook to display the results of our implemantation vs the numpy approach and also vs the more commonly known Keras (with tensorflow backend).<br> <br>\n",
    "The purpose of this notebook is to walk the reader through our code, to show where we encountered problems and the solutions we found. But also to show the optimization process that took place. And to compare our implemantation throughout a range of input sizes."
   ]
  },
  {
   "cell_type": "markdown",
   "metadata": {},
   "source": [
    "This repository is made as such :<br/>\n",
    "> _train-images-idx3-ubyte_ : the __MNSIT__ pictures dataset (60k images of dimensions (28,28)) <br/>\n",
    "> _train-labels-idx1-ubyte_ : the __labels__ corresponding to the MNSIT <br/>\n",
    "> _CNN_ : the folder containing the __numpy__ implementation <br/>\n",
    "> _Nb cnn_ : the folder containing the __Numba__ implementation <br/>\n",
    "\n",
    "Each of the folder is basically made of these scripts:<br/>\n",
    ">_forward.py_ : all the necessary forward functions (convolution, maxpool, softmax, categorical cross entropy, dense layer) <br/>\n",
    ">_backward.py_: all the necessary backward functions (same functions as in forward, but for the backward passes) <br/>\n",
    ">_network.py_ : this is where we define our model, by calling the function from the 2 previous files. And also define the learning structure (with batches definition and so on)<br/>\n",
    ">_utils.py_<br/>\n",
    "\n",
    "The first 2 scripts are where the parallelisation happens"
   ]
  },
  {
   "cell_type": "markdown",
   "metadata": {},
   "source": [
    "In this notebook we will make use of these scripts to try and compare the different approaches on different datasets"
   ]
  },
  {
   "cell_type": "markdown",
   "metadata": {},
   "source": [
    "## Imports"
   ]
  },
  {
   "cell_type": "code",
   "execution_count": 18,
   "metadata": {},
   "outputs": [],
   "source": [
    "from CNN.network import train_cnn_np                ## The CNN build with numpy\n",
    "from Nb_cnn.network_3 import train_cnn_nb           ## The CNN build with numpy"
   ]
  },
  {
   "cell_type": "code",
   "execution_count": 21,
   "metadata": {},
   "outputs": [],
   "source": [
    "import pandas as pd\n",
    "import numpy as np\n",
    "import matplotlib.pyplot as plt\n",
    "import timeit\n",
    "from tqdm import tqdm\n",
    "import math\n",
    "\n",
    "from numba import cuda\n",
    "from Nb_cnn.forward import convolution"
   ]
  },
  {
   "cell_type": "markdown",
   "metadata": {},
   "source": [
    "## Dive in our work"
   ]
  },
  {
   "cell_type": "markdown",
   "metadata": {},
   "source": [
    "In this section we will go through some of our parrallel functions. Some quite straightforward, so you get the gist of how it works, but also and mainly over the ones that caused us the more trouble"
   ]
  },
  {
   "cell_type": "markdown",
   "metadata": {},
   "source": [
    "### Forward"
   ]
  },
  {
   "cell_type": "markdown",
   "metadata": {},
   "source": [
    "#### Convolution\n",
    "This function takes as input the image, the filter, the bias and a \"placeholder\" for the output. <br/> \n",
    "Numba function with the decorator \"@cuda.jit\" allow us to parallelize like we want, but it can only return void. So we feed it the output as well as the input. <br/>\n",
    "For simplicity we only apply square window convolution, meaning filter is of size (f1,f2) with f1 = f2. And we also only ever apply stride of 1 with no padding."
   ]
  },
  {
   "cell_type": "markdown",
   "metadata": {},
   "source": [
    "Here, we parrallelize through 3 dimensions : the channel, the height and the width. This is very useful to write code in a more natural way. We apply the filter on the part of the image selected, we sum up the result and then check if it's positive or not. If it's positive we keep it as such, if it's negative we then clip it to zero (this is the RELu activation function). <br/>\n",
    "Finally, we \"feed\" the result to the output."
   ]
  },
  {
   "cell_type": "code",
   "execution_count": 22,
   "metadata": {},
   "outputs": [],
   "source": [
    "@cuda.jit\n",
    "def convolution(image, filt, bias, out):\n",
    "    startX, startY, startZ = cuda.grid(3)          ### We parrallelize on 3 dimensions :\n",
    "    gridX = cuda.gridDim.x * cuda.blockDim.x;      ### Dimension 1\n",
    "    gridY = cuda.gridDim.y * cuda.blockDim.y;      ### Dimension 2\n",
    "    gridZ = cuda.gridDim.z * cuda.blockDim.z;      ### Dimension 3\n",
    "    (n_f, n_c_f, f, _) = filt.shape\n",
    "    in_dim = image.shape[-1]\n",
    "    for curr_f  in range(startX, n_f, gridX):      ### Parrallelize over the number of filters\n",
    "        b_f = bias[curr_f]\n",
    "        w_f = filt[curr_f]\n",
    "        for curr_y in range(startY, in_dim-f+1, gridY):      ### Parrallelize over height of the picture\n",
    "            for curr_x in range(startZ, in_dim-f+1, gridZ):      ### Parrallelize over width of the picture\n",
    "                summ = 0.\n",
    "                im_part = image[:,curr_y:curr_y+f, curr_x:curr_x+f] \n",
    "                ### After this point is not parrallel; we wanna sum the product of the filter by the designated picture part\n",
    "                for kk in range(w_f.shape[-3]):\n",
    "                    for ii in range(w_f.shape[-2]):\n",
    "                        for jj in range(w_f.shape[-1]):\n",
    "                            summ += w_f[kk][ii][jj] * im_part[kk][ii][jj]\n",
    "                summ += b_f[0]\n",
    "                ##apply RELu\n",
    "                if summ >= 0. :\n",
    "                    out[curr_f, curr_y, curr_x] = summ\n",
    "                else:\n",
    "                    out[curr_f, curr_y, curr_x] = 0."
   ]
  },
  {
   "cell_type": "markdown",
   "metadata": {},
   "source": [
    "#### Dense / Fully Connected\n",
    "This function takes as input the previous layer output (flat vector), the weight (a 2d matrix), a \"placeholder\" for the output and a boolean to determine if we apply RELu activation or not. <br/> "
   ]
  },
  {
   "cell_type": "markdown",
   "metadata": {},
   "source": [
    "This time, we parrallelize on 1 dimension : the output vector. For every row of the weight matrix, we compute the dot product between the given row and the input (previous layer). We then apply the RELu activation (or not depending on the value of the argument \"relu\") and finally feed it to the output."
   ]
  },
  {
   "cell_type": "code",
   "execution_count": 23,
   "metadata": {},
   "outputs": [],
   "source": [
    "@cuda.jit\n",
    "def dense_lay(A, B, C, relu):    \n",
    "    startX = cuda.grid(1)\n",
    "    gridX = cuda.gridDim.x * cuda.blockDim.x;\n",
    "    for jj in range(startX, C.shape[0] ,gridX):      ### Parrallelize over the output vector\n",
    "        summ = 0.\n",
    "        B_jj = B[jj]\n",
    "        for kk in range(A.shape[0]):\n",
    "            summ += A[kk][0] * B_jj[kk]\n",
    "        ##apply RELu\n",
    "        if relu:\n",
    "            if summ <= 0. :\n",
    "                summ = 0.\n",
    "        C[jj,0] = summ"
   ]
  },
  {
   "cell_type": "markdown",
   "metadata": {},
   "source": [
    "### Backward"
   ]
  },
  {
   "cell_type": "markdown",
   "metadata": {},
   "source": [
    "The backward operation caused us more problems to parallelize. And so fisrt we will look at the implementation on numpy and then at the one on numba."
   ]
  },
  {
   "cell_type": "markdown",
   "metadata": {},
   "source": [
    "#### ReLU\n",
    "Let's write \"$dconv_l$\" the gradient of the loss backpropagated throught the layer $l$, and \"$conv_l$\" the same layer but during the forward pass. Then, to backpropagate through ReLU, in Numpy all we need do is :\n",
    ">$dconv_l[conv_l<=0] = 0$\n",
    "\n",
    "Below is the equivalent for a 1d vector. This is the function used to backpropagate through ReLU the gradient of a dense layer. <br/> There is also the equivalent function for 3d vectors, useful to do the same but for the gradient of a convolutionnal layer."
   ]
  },
  {
   "cell_type": "markdown",
   "metadata": {},
   "source": [
    "We parrallelize through the vectors to apply the ReLU condition element wise"
   ]
  },
  {
   "cell_type": "code",
   "execution_count": 24,
   "metadata": {},
   "outputs": [],
   "source": [
    "@cuda.jit\n",
    "def back_RELu(A, B):\n",
    "    startX = cuda.grid(1)\n",
    "    gridX = cuda.gridDim.x * cuda.blockDim.x;\n",
    "    for ii in range(startX, A.shape[0] ,gridX):\n",
    "        if A[ii][0] <= 0.:\n",
    "            B[ii][0] = 0."
   ]
  },
  {
   "cell_type": "markdown",
   "metadata": {},
   "source": [
    "#### Dense, layer gradient\n",
    "Here we compute the gradient of the loss w.r.t. a dense/fully connected layer.<br/>\n",
    "Let's write that $dout_l$ is the gradient of the layer $l$, and $weight_{l}$ is the matrix weight of the layer $l$. Then in Numpy the backpropagation can be done using only this line :\n",
    ">$dout_l$ = $weight_{l+1}$.T.dot($dout_{l+1}$) ; with $A$.T = transpose($A$)\n",
    "\n",
    "So at first we just used the previoulsy defined function \"dense_lay\" (showed above) like so:\n",
    ">dense_lay($dout_{l+1}$, $weight_{l+1}$.T, $dout_l$, False)\n",
    "\n",
    "Surprisingly, this layer took a lot more time to run than other layers (around 20 times more). After a fair bit of investigation, we realised that it was entirely due to the operation $weight_{l+1}$.T <br/>\n",
    "Transposing a vector, even a very small one, on the gpu is a lot more longer than on the cpu. So, based on that discovery we just created the function below"
   ]
  },
  {
   "cell_type": "markdown",
   "metadata": {},
   "source": [
    "Basically we removed the necessity to transpose the weight matrix, simply by switching the axis on which we do the dot product, see here it's :\n",
    "> B[kk,jj] and not B[jj,kk] like before\n",
    "\n",
    "This may seem like nothing but it took quite a while to discover where the bottleneck was."
   ]
  },
  {
   "cell_type": "code",
   "execution_count": 25,
   "metadata": {},
   "outputs": [],
   "source": [
    "@cuda.jit\n",
    "def back_dense_lay_grad(A, B, C):    \n",
    "    startX = cuda.grid(1)\n",
    "    gridX = cuda.gridDim.x * cuda.blockDim.x;\n",
    "    for jj in range(startX, C.shape[0] ,gridX):\n",
    "        summ = 0.\n",
    "        for kk in range(A.shape[0]):\n",
    "            summ += A[kk][0] * B[kk, jj]\n",
    "        C[jj,0] = summ"
   ]
  },
  {
   "cell_type": "markdown",
   "metadata": {},
   "source": [
    "#### Convolution, filter's gradient and gradient backpropagation\n",
    "This backward function is one that troubled us the most. We will look simultaneously at the filters' gradient and at the backpropagation of the loss to the previous layer. These 2 operations can be done simultaneously in numpy, but cannot in numba. <br/>\n",
    "Let's first look quickly at the numpy implementation. Here, the arguments are :\n",
    "> *dconv_prev* is the gradient of the layer l+1 <br/>\n",
    "> *conv_in* is the forward pass of the layer l  <br/>\n",
    "> *filt* is the filter of the layer l+1  <br/>\n",
    "> *s* is the stride (always equal to 1 so no need to pay it to much attention)"
   ]
  },
  {
   "cell_type": "code",
   "execution_count": 26,
   "metadata": {},
   "outputs": [],
   "source": [
    "def convolutionBackward(dconv_prev, conv_in, filt, s):\n",
    "    (n_f, n_c, f, _) = filt.shape\n",
    "    (_, orig_dim, _) = conv_in.shape\n",
    "    ## initialize derivatives\n",
    "    dout = np.zeros(conv_in.shape)\n",
    "    dfilt = np.zeros(filt.shape)\n",
    "    dbias = np.zeros((n_f,1))\n",
    "    for curr_f in range(n_f):\n",
    "        # loop through all filters\n",
    "        curr_y = out_y = 0\n",
    "        while curr_y + f <= orig_dim:\n",
    "            curr_x = out_x = 0\n",
    "            while curr_x + f <= orig_dim:\n",
    "                # loss gradient of filter (used to update the filter)\n",
    "                dfilt[curr_f] += dconv_prev[curr_f, out_y, out_x] * conv_in[:, curr_y:curr_y+f, curr_x:curr_x+f] ## real * (n_c, f, f)\n",
    "                # loss gradient of the input to the convolution operation (conv1 in the case of this network)\n",
    "                dout[:, curr_y:curr_y+f, curr_x:curr_x+f] += dconv_prev[curr_f, out_y, out_x] * filt[curr_f] ## real * (n_c, f, f)\n",
    "                curr_x += s\n",
    "                out_x += 1\n",
    "            curr_y += s\n",
    "            out_y += 1\n",
    "        # loss gradient of the bias\n",
    "        dbias[curr_f] = np.sum(dconv_prev[curr_f])\n",
    "    \n",
    "    return dout, dfilt, dbias"
   ]
  },
  {
   "cell_type": "markdown",
   "metadata": {},
   "source": [
    "The problem with this approach when we want to parrallelize it are those 2 lines:\n",
    "```python\n",
    "dfilt[curr_f] += dconv_prev[curr_f, out_y, out_x] * conv_in[:, curr_y:curr_y+f, curr_x:curr_x+f]\n",
    "dout[:, curr_y:curr_y+f, curr_x:curr_x+f] += dconv_prev[curr_f, out_y, out_x] * filt[curr_f]\n",
    "```\n",
    "\n",
    "And more specifically this \"__+=__\", the fact that want to accumulate. This numpy based function takes each filter, apply it \"backwardly\" to a part of the image and accumulate the results throughout the loops. That is something we cannot parrallelize, not this way at least. Because in order for this function to run properly we would need to wait for every product to be made before summing them, here we just sum them over time. <br/> <br/>\n",
    "When we first tried to naively parrellize this function, we ended up with a function that not only would give us wrong result, but also give us different results at every run. So bellow is the solution we found; we had to devellop 2 functions : one for the gradient of the filter and one for the propagation of the gradient to the previous layer."
   ]
  },
  {
   "cell_type": "markdown",
   "metadata": {},
   "source": [
    "##### Filter's gradient"
   ]
  },
  {
   "cell_type": "markdown",
   "metadata": {},
   "source": [
    "Our solution to computing the gradient of the filter was to parrallelize, not on the picture dimensions, but on the filters dimensions directly. So we had to understand what the final formula of each filter's gradient was in order to do so. That meant that we where on 6 different dimension (6 loop) trying to understand how it all came together in th end. Moving from accumulation over time to exact formula was quite the brain teaser. "
   ]
  },
  {
   "cell_type": "code",
   "execution_count": 27,
   "metadata": {},
   "outputs": [],
   "source": [
    "@cuda.jit\n",
    "def back_conv_filt(dconv_prev, conv_in, dfilt):\n",
    "    startX, startY, startZ = cuda.grid(3);\n",
    "    gridX = cuda.gridDim.x * cuda.blockDim.x;\n",
    "    gridY = cuda.gridDim.y * cuda.blockDim.y;\n",
    "    gridZ = cuda.gridDim.z * cuda.blockDim.z;\n",
    "    \n",
    "    (n_f, n_c, f, _) = dfilt.shape\n",
    "    (_, orig_dim, _) = conv_in.shape\n",
    "    for curr_f in range(startX, n_f, gridX):\n",
    "        for curr_c in range(startY, n_c, gridY):\n",
    "            for ii in range(startZ, f, gridZ):\n",
    "                for jj in range(f):\n",
    "                    summ = 0.\n",
    "                    for out_y in range(orig_dim-f+1):\n",
    "                            for out_x in range(orig_dim-f+1):\n",
    "                                summ += dconv_prev[curr_f, out_y, out_x] * conv_in[curr_c,out_y+ii, out_x+jj]\n",
    "                    dfilt[curr_f,curr_c,ii,jj] = summ"
   ]
  },
  {
   "cell_type": "markdown",
   "metadata": {},
   "source": [
    "##### Gradient backpropagation"
   ]
  },
  {
   "cell_type": "markdown",
   "metadata": {},
   "source": [
    "For the backpropagtion of the gradient to the previous layer, we use the same approach, we parrallelized on the output (the previous layer gradient) dimensions. Giving the fact that, due to the convolution, $dim(dout_l) \\neq dim(dout_{l+1})$ we had some problems on the \"edge\" of the layers, because every \"pixel\" is not the result of the same number of addition. For example, the very first pixel is equal to :\n",
    "```python\n",
    "su = 0\n",
    "for i in range(filt.shape[0]):\n",
    "    su+= dconv_prev[i, 0, 0] * filt[i, 0, 0, 0]\n",
    "dout[0, 0, 0] = su\n",
    "```\n",
    "Whereas the next one is :\n",
    "``` python\n",
    "su = 0 \n",
    "for i in range(6):\n",
    "    su+= (dconv_prev[i, 0, 0] * filt[i, 0, 0, 1] +\n",
    "          dconv_prev[i, 0, 1] * filt[i, 0, 0, 0])\n",
    "dout[0, 0, 1] = su\n",
    "```\n",
    "And so on... <br/>\n",
    "But we have to run it this way, otherwise we cannot parrallelize it. So in addition to rearranging the 6 different loops, which was hard enough, we also had to come up with the right \"if\" conditions to take into account the \"edge\" problem we just showed <br/>\n",
    "Bellow is the solution we found"
   ]
  },
  {
   "cell_type": "code",
   "execution_count": 28,
   "metadata": {},
   "outputs": [],
   "source": [
    "@cuda.jit\n",
    "def backprop_conv(dconv_prev, filt, dout):\n",
    "    startX, startY, startZ = cuda.grid(3);\n",
    "    gridX = cuda.gridDim.x * cuda.blockDim.x;\n",
    "    gridY = cuda.gridDim.y * cuda.blockDim.y;\n",
    "    gridZ = cuda.gridDim.z * cuda.blockDim.z;\n",
    "    \n",
    "    (n_c, n_c_2, f, _) = filt.shape\n",
    "    (n_f, orig_dim, _) = dout.shape\n",
    "    for curr_f in range(startX, n_f, gridX):\n",
    "        for curr_y in range(startY, orig_dim, gridY):\n",
    "            for curr_x in range(startZ, orig_dim, gridZ):\n",
    "                summ = 0.\n",
    "                for kk in range(n_c):\n",
    "                    for ii in range(f):\n",
    "                        for jj in range(f):\n",
    "                            if (curr_y-f+1+ii < dconv_prev.shape[1] and\n",
    "                                curr_x-f+1+jj < dconv_prev.shape[2] and\n",
    "                                curr_y-f+1+ii>=0 and\n",
    "                                curr_x-f+1+jj>=0 and \n",
    "                                f-1-ii >=0 and\n",
    "                                f-1-jj >=0) :\n",
    "                                summ += dconv_prev[kk, curr_y-f+1+ii, curr_x-f+1+jj] * filt[kk,curr_f,f-1-ii,f-1-jj]\n",
    "                dout[curr_f, curr_y, curr_x] = summ"
   ]
  },
  {
   "cell_type": "markdown",
   "metadata": {},
   "source": [
    "## Optimizing our model"
   ]
  },
  {
   "cell_type": "markdown",
   "metadata": {},
   "source": [
    "### Grid and Block Dimension"
   ]
  },
  {
   "cell_type": "markdown",
   "metadata": {},
   "source": [
    "Once all the necessary forward and backward functions are written this is how you would use those:\n",
    "``` python\n",
    "from numba import cuda\n",
    "import numpy as np\n",
    "from Nb_cnn.utils import initializeFilter\n",
    "\n",
    "## Initialize the parameters but also the output layer\n",
    "filt_1 = initializeFilter(size = size_of_first_filter)\n",
    "b1 = np.zeros((size_of_first_filter[0],1))\n",
    "out_1 = np.zeros((size_of_first_filter[0], out_dim_1, out_dim_1))\n",
    "\n",
    "\n",
    "## Load the arrays to the gpu memory (the 'device')\n",
    "d_image = cuda.to_device(image)\n",
    "d_filter_1 = cuda.to_device(filt_1)\n",
    "d_b1 = cuda.to_device(b1)\n",
    "d_out_1 = cuda.to_device(out_1)\n",
    "\n",
    "## Apply the function like so :\n",
    "convolution[(8,8,8), (2,8,16)](d_image, d_filter_1, d_b1, d_out_1)\n",
    "```\n",
    "Here (8,8,8) corresponds to the grid dimension and (2,8,16) to the block dimension <br/>\n",
    "__The purpose of this section is to try to optimize these 2 values__"
   ]
  },
  {
   "cell_type": "markdown",
   "metadata": {},
   "source": [
    "Notice that every one of our parrallelized function starts something like this:\n",
    "``` python\n",
    "startX, startY, startZ = cuda.grid(3);\n",
    "gridX = cuda.gridDim.x * cuda.blockDim.x;\n",
    "gridY = cuda.gridDim.y * cuda.blockDim.y;\n",
    "gridZ = cuda.gridDim.z * cuda.blockDim.z;\n",
    "```\n",
    "Here is the documentation on these, numba.cuda.grid(ndim):\n",
    ">Return the absolute position of the current thread in the entire grid of blocks. ndim should correspond to the number of dimensions declared when instantiating the kernel. If ndim is 1, a single integer is returned. If ndim is 2 or 3, a tuple of the given number of integers is returned.\n",
    "\n",
    "numba.cuda.blockDim :\n",
    ">The shape of the block of threads, as declared when instantiating the kernel. This value is the same for all threads in a given kernel, even if they belong to different blocks (i.e. each block is “full”)\n",
    "\n",
    "numba.cuda.gridDim :\n",
    ">The shape of the grid of blocks, i.e. the total number of blocks launched by this kernel invocation, as declared when instantiating the kernel."
   ]
  },
  {
   "cell_type": "markdown",
   "metadata": {},
   "source": [
    "The big problem when we want to compare 2 runs of the same function, with different grid dimension for example, is the unstability. <br/>\n",
    "The example below speaks for itself :"
   ]
  },
  {
   "cell_type": "code",
   "execution_count": 30,
   "metadata": {},
   "outputs": [
    {
     "name": "stdout",
     "output_type": "stream",
     "text": [
      "0 Opti is better -0.023244178379925984\n",
      "1 Opti is no better 0.006611134450107414\n",
      "2 Opti is better -0.017145772433146078\n",
      "3 Opti is no better 0.0002293785409648308\n",
      "4 Opti is no better 0.0020483613109547605\n",
      "5 Opti is no better 0.00478850496245542\n",
      "6 Opti is no better 6.0900184955414716e-05\n",
      "7 Opti is no better 0.0019298429869181177\n",
      "8 Opti is better -0.0031905132828029537\n",
      "9 Opti is no better 0.002476850636277561\n"
     ]
    }
   ],
   "source": [
    "BLOCKDIM_3D = (2, 8, 16)\n",
    "\n",
    "s = \"\"\"\\\n",
    "from __main__ import test_conv\n",
    "import numpy as np\n",
    "import math\n",
    "from Nb_cnn.forward import convolution\n",
    "from numba import cuda\n",
    "BLOCKDIM_3D = (2, 8, 16)\n",
    "pic_dim = 512\n",
    "image = np.random.normal(size = (1,pic_dim,pic_dim)); d_image = cuda.to_device(image)\n",
    "filt = np.random.normal(size = (4,image.shape[0],5,5)); d_filt = cuda.to_device(filt)\n",
    "b = np.random.normal(size = (4,1)); d_b = cuda.to_device(b)\n",
    "out_dim_1 = image.shape[1] - filt.shape[-1] + 1\n",
    "out = np.random.normal(size = (4, out_dim_1, out_dim_1)); d_out = cuda.to_device(out)\n",
    "blockspergrid_x = math.ceil(d_filt.shape[0] / BLOCKDIM_3D[0])\n",
    "blockspergrid_y = math.ceil((d_image.shape[-1] - d_filt.shape[-2]+1) / BLOCKDIM_3D[1])\n",
    "blockspergrid_z = math.ceil((d_image.shape[-1] - d_filt.shape[-2]+1)/ BLOCKDIM_3D[2])\n",
    "blockspergrid = (blockspergrid_x, blockspergrid_y, blockspergrid_z)\n",
    "    \"\"\"\n",
    "\n",
    "def test_conv(d_image, d_filt, d_b, d_out, blockspergrid):\n",
    "    if blockspergrid:\n",
    "        convolution[blockspergrid, BLOCKDIM_3D](d_image, d_filt, d_b, d_out) ## adapted dimension\n",
    "    else : \n",
    "        convolution[(8,8,8), BLOCKDIM_3D](d_image, d_filt, d_b, d_out) ## random dimension choosen\n",
    "\n",
    "        \n",
    "for i in range(10):    \n",
    "    opt = timeit.timeit(\"test_conv(d_image, d_filt, d_b, d_out, blockspergrid)\", number=1000, setup=s)\n",
    "    no_opti = timeit.timeit(\"test_conv(d_image, d_filt, d_b, d_out, None)\", number=1000, setup=s)\n",
    "    if opt < no_opti:\n",
    "        print(i, \"Opti is better\", opt - no_opti)\n",
    "    else:\n",
    "        print(i, \"Opti is no better\", opt - no_opti)"
   ]
  },
  {
   "cell_type": "code",
   "execution_count": 33,
   "metadata": {},
   "outputs": [
    {
     "data": {
      "text/plain": [
       "<matplotlib.legend.Legend at 0x1f254b5e8d0>"
      ]
     },
     "execution_count": 33,
     "metadata": {},
     "output_type": "execute_result"
    },
    {
     "data": {
      "image/png": "[encoded data removed]",
      "text/plain": [
       "<matplotlib.figure.Figure at 0x1f236069d30>"
      ]
     },
     "metadata": {
      "needs_background": "light"
     },
     "output_type": "display_data"
    }
   ],
   "source": [
    "### Let's try a more empirical approach to determine the best grid dimension:\n",
    "import matplotlib.pyplot as plt\n",
    "\n",
    "times_opt = timeit.repeat(\"test_conv(d_image, d_filt, d_b, d_out, blockspergrid)\", number=100, setup=s, repeat = 150)[1:]\n",
    "times_no = timeit.repeat(\"test_conv(d_image, d_filt, d_b, d_out, None)\", number=100, setup=s, repeat = 150)[1:]\n",
    "\n",
    "plt.hist(times_opt, alpha = 0.5)\n",
    "plt.hist(times_no, alpha = 0.5)\n",
    "plt.legend([\"opt\",\"no\"])"
   ]
  },
  {
   "cell_type": "markdown",
   "metadata": {},
   "source": [
    "As we can see, sometimes adapting the grid dimension to the input shape is better, sometimes it's not. We can't explain really such a behaviour to ourselves... It seems that adapted dimension performed the best runs, but overall not adapted dimensions perfomed better. If you run this cell, you will get different results every time, so you cannot really say anything about this approach unfortunately"
   ]
  },
  {
   "cell_type": "markdown",
   "metadata": {},
   "source": [
    "### Varying the size of the input"
   ]
  },
  {
   "cell_type": "markdown",
   "metadata": {},
   "source": [
    "Here the purpose is to look at the same problem as above, but this time, we are going to make the size of the input vary to see how that would impact the speed run but also the \"instability\" we just showed."
   ]
  },
  {
   "cell_type": "code",
   "execution_count": 1,
   "metadata": {},
   "outputs": [],
   "source": [
    "import pandas as pd\n",
    "import numpy as np\n",
    "import matplotlib.pyplot as plt\n",
    "import timeit\n",
    "import time\n",
    "from tqdm import tqdm\n",
    "from Nb_cnn.forward import convolution"
   ]
  },
  {
   "cell_type": "code",
   "execution_count": 2,
   "metadata": {},
   "outputs": [],
   "source": [
    "BLOCKDIM_3D = (1, 16, 16)\n",
    "def def_context(pic_dim):\n",
    "    s = \"\"\"\\\n",
    "from __main__ import test_conv\n",
    "import numpy as np\n",
    "import math\n",
    "from Nb_cnn.forward import convolution\n",
    "from numba import cuda\n",
    "BLOCKDIM_3D = (1, 16, 16)\n",
    "pic_dim = \"\"\" + str(pic_dim) + \"\"\";\n",
    "image = np.random.normal(size = (pic_dim[0],pic_dim[1],pic_dim[1])); d_image = cuda.to_device(image)\n",
    "filt = np.random.normal(size = (8,image.shape[0],5,5)); d_filt = cuda.to_device(filt)\n",
    "b = np.random.normal(size = (filt.shape[0],1)); d_b = cuda.to_device(b)\n",
    "out_dim_1 = image.shape[1] - filt.shape[-1] + 1\n",
    "out = np.random.normal(size = (filt.shape[0], out_dim_1, out_dim_1)); d_out = cuda.to_device(out)\n",
    "blockspergrid_x = math.ceil(d_filt.shape[0] / BLOCKDIM_3D[0])\n",
    "blockspergrid_y = math.ceil((d_image.shape[-1] - d_filt.shape[-2]+1) / BLOCKDIM_3D[1])\n",
    "blockspergrid_z = math.ceil((d_image.shape[-1] - d_filt.shape[-2]+1)/ BLOCKDIM_3D[2])\n",
    "blockspergrid = (blockspergrid_x, blockspergrid_y, blockspergrid_z)\n",
    "        \"\"\"\n",
    "    return s\n",
    "def test_conv(d_image, d_filt, d_b, d_out, blockspergrid):\n",
    "    if blockspergrid:\n",
    "        convolution[blockspergrid, BLOCKDIM_3D](d_image, d_filt, d_b, d_out) ## adapted dimension\n",
    "    else : \n",
    "        convolution[(8,16,16), BLOCKDIM_3D](d_image, d_filt, d_b, d_out) ## random dimension choosen"
   ]
  },
  {
   "cell_type": "markdown",
   "metadata": {},
   "source": [
    "The instability remains more than ever, just look at those 2 cells below, they are exactly the same, yet run them one after the other you get quite different results"
   ]
  },
  {
   "cell_type": "code",
   "execution_count": 8,
   "metadata": {},
   "outputs": [
    {
     "name": "stderr",
     "output_type": "stream",
     "text": [
      "100%|██████████████████████████████████████████████████████████████████████████████████| 16/16 [01:16<00:00,  4.76s/it]\n"
     ]
    },
    {
     "data": {
      "text/plain": [
       "<matplotlib.legend.Legend at 0x140b8306438>"
      ]
     },
     "execution_count": 8,
     "metadata": {},
     "output_type": "execute_result"
    },
    {
     "data": {
      "image/png": "[encoded data removed]",
      "text/plain": [
       "<matplotlib.figure.Figure at 0x140b83b6898>"
      ]
     },
     "metadata": {
      "needs_background": "light"
     },
     "output_type": "display_data"
    }
   ],
   "source": [
    "df_1_a = pd.DataFrame()\n",
    "for i in tqdm(np.arange(16,1024,64)):\n",
    "    df_1_a[str(i)] = timeit.repeat(\"test_conv(d_image, d_filt, d_b, d_out, blockspergrid)\",\n",
    "                                         number = 15,\n",
    "                                         setup = def_context(pic_dim = [3,i]),\n",
    "                                         repeat = 15)[1:]     ### we remove the first run, since it's always way longer than the other runs\n",
    "                                                              ### because of the JIT and kernel loading overhead the first time you run it\n",
    "df_1_a.mean().plot()\n",
    "df_1_a.median().plot()\n",
    "df_1_a.min().plot()\n",
    "plt.legend([\"Mean\", \"Median\", \"Min\"])    "
   ]
  },
  {
   "cell_type": "code",
   "execution_count": 9,
   "metadata": {
    "scrolled": true
   },
   "outputs": [
    {
     "name": "stderr",
     "output_type": "stream",
     "text": [
      "100%|██████████████████████████████████████████████████████████████████████████████████| 16/16 [01:16<00:00,  4.77s/it]\n"
     ]
    },
    {
     "data": {
      "text/plain": [
       "<matplotlib.legend.Legend at 0x140b83d8c50>"
      ]
     },
     "execution_count": 9,
     "metadata": {},
     "output_type": "execute_result"
    },
    {
     "data": {
      "image/png": "[encoded data removed]",
      "text/plain": [
       "<matplotlib.figure.Figure at 0x14094314240>"
      ]
     },
     "metadata": {
      "needs_background": "light"
     },
     "output_type": "display_data"
    }
   ],
   "source": [
    "df_2_a = pd.DataFrame()\n",
    "for i in tqdm(np.arange(16,1024,64)):\n",
    "    df_2_a[str(i)] = timeit.repeat(\"test_conv(d_image, d_filt, d_b, d_out, blockspergrid)\",\n",
    "                                         number = 15,\n",
    "                                         setup = def_context(pic_dim = [3,i]),\n",
    "                                         repeat = 15)[1:]     ### we remove the first run, since it's always way longer than the other runs\n",
    "                                                              ### because of the JIT and kernel loading overhead the first time you run it\n",
    "df_2_a.mean().plot()\n",
    "df_2_a.median().plot()\n",
    "df_2_a.min().plot()\n",
    "plt.legend([\"Mean\", \"Median\", \"Min\"])    "
   ]
  },
  {
   "cell_type": "markdown",
   "metadata": {},
   "source": [
    "We didn't find a better or more stable way to look at the efficiency. So unfortunatly we cannot say anything about the speed w.r.t the input size. <br/>\n",
    "Let's now look at same code, but with the grid dimension fixed, and not depending on the input size. The value choosen is a random one, but a big one :"
   ]
  },
  {
   "cell_type": "code",
   "execution_count": 11,
   "metadata": {},
   "outputs": [
    {
     "name": "stderr",
     "output_type": "stream",
     "text": [
      "100%|██████████████████████████████████████████████████████████████████████████████████| 16/16 [01:12<00:00,  4.51s/it]\n"
     ]
    },
    {
     "data": {
      "text/plain": [
       "<matplotlib.legend.Legend at 0x140b8496080>"
      ]
     },
     "execution_count": 11,
     "metadata": {},
     "output_type": "execute_result"
    },
    {
     "data": {
      "image/png": "[encoded data removed]",
      "text/plain": [
       "<matplotlib.figure.Figure at 0x140b8507940>"
      ]
     },
     "metadata": {
      "needs_background": "light"
     },
     "output_type": "display_data"
    }
   ],
   "source": [
    "df_1_r = pd.DataFrame()\n",
    "for i in tqdm(np.arange(16,1024,64)):\n",
    "    df_1_r[str(i)] = timeit.repeat(\"test_conv(d_image, d_filt, d_b, d_out, None)\",\n",
    "                                         number = 15,\n",
    "                                         setup = def_context(pic_dim = [3,i]),\n",
    "                                         repeat = 15)[1:]     ### we remove the first run, since it's always way longer than the other runs\n",
    "                                                              ### because of the JIT and kernel loading overhead the first time you run it\n",
    "df_1_r.mean().plot()\n",
    "df_1_r.median().plot()\n",
    "df_1_r.min().plot()\n",
    "plt.legend([\"Mean\", \"Median\", \"Min\"])    "
   ]
  },
  {
   "cell_type": "code",
   "execution_count": 12,
   "metadata": {},
   "outputs": [
    {
     "name": "stderr",
     "output_type": "stream",
     "text": [
      "100%|██████████████████████████████████████████████████████████████████████████████████| 16/16 [01:13<00:00,  4.57s/it]\n"
     ]
    },
    {
     "data": {
      "text/plain": [
       "<matplotlib.legend.Legend at 0x140b84df668>"
      ]
     },
     "execution_count": 12,
     "metadata": {},
     "output_type": "execute_result"
    },
    {
     "data": {
      "image/png": "[encoded data removed]",
      "text/plain": [
       "<matplotlib.figure.Figure at 0x140b84a2278>"
      ]
     },
     "metadata": {
      "needs_background": "light"
     },
     "output_type": "display_data"
    }
   ],
   "source": [
    "df_2_r = pd.DataFrame()\n",
    "for i in tqdm(np.arange(16,1024,64)):\n",
    "    df_2_r[str(i)] = timeit.repeat(\"test_conv(d_image, d_filt, d_b, d_out, None)\",\n",
    "                                         number = 15,\n",
    "                                         setup = def_context(pic_dim = [3,i]),\n",
    "                                         repeat = 15)[1:]     ### we remove the first run, since it's always way longer than the other runs\n",
    "                                                              ### because of the JIT and kernel loading overhead the first time you run it\n",
    "df_2_r.mean().plot()\n",
    "df_2_r.median().plot()\n",
    "df_2_r.min().plot()\n",
    "plt.legend([\"Mean\", \"Median\", \"Min\"])    "
   ]
  },
  {
   "cell_type": "code",
   "execution_count": 28,
   "metadata": {
    "scrolled": true
   },
   "outputs": [
    {
     "data": {
      "image/png": "[encoded data removed]",
      "text/plain": [
       "<matplotlib.figure.Figure at 0x140ba20ab00>"
      ]
     },
     "metadata": {
      "needs_background": "light"
     },
     "output_type": "display_data"
    },
    {
     "data": {
      "image/png": "[encoded data removed]",
      "text/plain": [
       "<matplotlib.figure.Figure at 0x140ba2d4be0>"
      ]
     },
     "metadata": {
      "needs_background": "light"
     },
     "output_type": "display_data"
    },
    {
     "data": {
      "image/png": "[encoded data removed]",
      "text/plain": [
       "<matplotlib.figure.Figure at 0x140ba3459e8>"
      ]
     },
     "metadata": {
      "needs_background": "light"
     },
     "output_type": "display_data"
    },
    {
     "data": {
      "image/png": "[encoded data removed]",
      "text/plain": [
       "<matplotlib.figure.Figure at 0x140ba19cfd0>"
      ]
     },
     "metadata": {
      "needs_background": "light"
     },
     "output_type": "display_data"
    }
   ],
   "source": [
    "pd.concat([df_1_a, df_2_a]).mean().plot()\n",
    "pd.concat([df_1_r, df_2_r]).mean().plot()\n",
    "plt.legend([\"Mean_a\", \"Mean_r\"])\n",
    "plt.show()\n",
    "pd.concat([df_1_a, df_2_a]).median().plot()\n",
    "pd.concat([df_1_r, df_2_r]).median().plot()\n",
    "plt.legend([\"Median_a\", \"Median_r\"])\n",
    "plt.show()\n",
    "pd.concat([df_1_a, df_2_a]).min().plot()\n",
    "pd.concat([df_1_r, df_2_r]).min().plot()\n",
    "plt.legend([\"Min_a\", \"Min_r\"])\n",
    "plt.show()\n",
    "pd.concat([df_1_a, df_2_a]).max().plot()\n",
    "pd.concat([df_1_r, df_2_r]).max().plot()\n",
    "plt.legend([\"Max_a\", \"Max_r\"])\n",
    "plt.show()"
   ]
  },
  {
   "cell_type": "markdown",
   "metadata": {},
   "source": [
    "Once again we cannot say much. However, it would seem that __most__ (but not all) of the time, adapting the dimension of the grid reduces the run time, but even when it does it is by very little. So between adapting every time the dimension and just putting a big value, we would argue that putting a big value is better for 2 reasons:\n",
    "1. The gain in runtime obtained by adapting the dimension isn't worth the effort you might put into it\n",
    "2. This way you ensure that no matter the size of your data, you will never end up out of ressource on your GPU"
   ]
  },
  {
   "cell_type": "markdown",
   "metadata": {},
   "source": [
    "## Comparing Implementation"
   ]
  },
  {
   "cell_type": "markdown",
   "metadata": {},
   "source": [
    "In this section we compare the 3 different approaches : \n",
    "    1. Numpy (baseline)\n",
    "    2. Numba (our work)\n",
    "    3. Keras (more commonly used)"
   ]
  },
  {
   "cell_type": "markdown",
   "metadata": {},
   "source": [
    "The purpose is to compare, not performance, but efficiency (speed). So we will use the same neural net architecture, and we'll only train on 1 epoch of 5k MNSIT pictures"
   ]
  },
  {
   "cell_type": "code",
   "execution_count": 1,
   "metadata": {},
   "outputs": [],
   "source": [
    "f1 = (8,1,5,5)     ## (output_channel, input_channel, conv_window_h, window_w)\n",
    "f2 = (8,8,5,5)     ## (output_channel, input_channel, conv_window_h, conv_window_w)\n",
    "p3 = (2)           ## pooling window = stride\n",
    "w4 = (128)          ## neurons on dense layer\n",
    "nb_classes = (10)  ## number of classes to classify on"
   ]
  },
  {
   "cell_type": "code",
   "execution_count": 2,
   "metadata": {},
   "outputs": [],
   "source": [
    "GRIDDIM= (8, 16, 32)\n",
    "BLOCKDIM = (2, 8, 32)\n",
    "NUM_EPOCHS = 1\n",
    "BATCH_SIZE = 32"
   ]
  },
  {
   "cell_type": "markdown",
   "metadata": {},
   "source": [
    "### Numpy"
   ]
  },
  {
   "cell_type": "code",
   "execution_count": 13,
   "metadata": {},
   "outputs": [],
   "source": [
    "from CNN.network import train_cnn_np"
   ]
  },
  {
   "cell_type": "code",
   "execution_count": 14,
   "metadata": {
    "collapsed": true
   },
   "outputs": [
    {
     "name": "stdout",
     "output_type": "stream",
     "text": [
      "Extracting train-images-idx3-ubyte.gz\n",
      "Extracting train-labels-idx1-ubyte.gz\n",
      "LR:0.01, Batch Size:32\n"
     ]
    },
    {
     "name": "stderr",
     "output_type": "stream",
     "text": [
      "  4%|███▏                                                                              | 6/157 [00:37<15:44,  6.26s/it]"
     ]
    },
    {
     "ename": "KeyboardInterrupt",
     "evalue": "",
     "output_type": "error",
     "traceback": [
      "\u001b[1;31m---------------------------------------------------------------------------\u001b[0m",
      "\u001b[1;31mKeyboardInterrupt\u001b[0m                         Traceback (most recent call last)",
      "\u001b[1;32m<ipython-input-14-bbbc310e9aa6>\u001b[0m in \u001b[0;36m<module>\u001b[1;34m()\u001b[0m\n\u001b[0;32m      1\u001b[0m train_cnn_np(lr = 0.01, img_dim = 28, img_depth = 1, f = f1[-1], num_filt1 = f1[0],\n\u001b[1;32m----> 2\u001b[1;33m              num_filt2 = f2[0], batch_size = BATCH_SIZE, num_epochs = NUM_EPOCHS, m =5000)\n\u001b[0m",
      "\u001b[1;32m~\\Documents\\Element Logiciel traitement données massives\\Rendu\\CNN\\network.py\u001b[0m in \u001b[0;36mtrain_cnn_np\u001b[1;34m(num_classes, lr, beta1, beta2, img_dim, img_depth, f, num_filt1, num_filt2, batch_size, num_epochs, save_path, m)\u001b[0m\n\u001b[0;32m    241\u001b[0m                                   \u001b[0mbeta2\u001b[0m \u001b[1;33m=\u001b[0m \u001b[0mbeta2\u001b[0m\u001b[1;33m,\u001b[0m\u001b[1;33m\u001b[0m\u001b[0m\n\u001b[0;32m    242\u001b[0m                                   \u001b[0mparams\u001b[0m \u001b[1;33m=\u001b[0m \u001b[0mparams\u001b[0m\u001b[1;33m,\u001b[0m\u001b[1;33m\u001b[0m\u001b[0m\n\u001b[1;32m--> 243\u001b[1;33m                                   cost = cost)\n\u001b[0m\u001b[0;32m    244\u001b[0m             \u001b[1;31m#t.set_description(\"Cost: %.2f\" % (cost[-1]))\u001b[0m\u001b[1;33m\u001b[0m\u001b[1;33m\u001b[0m\u001b[0m\n\u001b[0;32m    245\u001b[0m     \u001b[1;32mreturn\u001b[0m \u001b[0mcost\u001b[0m\u001b[1;33m\u001b[0m\u001b[0m\n",
      "\u001b[1;32m~\\Documents\\Element Logiciel traitement données massives\\Rendu\\CNN\\network.py\u001b[0m in \u001b[0;36madamGD\u001b[1;34m(batch, num_classes, lr, dim, n_c, beta1, beta2, params, cost)\u001b[0m\n\u001b[0;32m    133\u001b[0m                            \u001b[0mconv_s\u001b[0m \u001b[1;33m=\u001b[0m \u001b[1;36m1\u001b[0m\u001b[1;33m,\u001b[0m\u001b[1;33m\u001b[0m\u001b[0m\n\u001b[0;32m    134\u001b[0m                            \u001b[0mpool_f\u001b[0m \u001b[1;33m=\u001b[0m \u001b[1;36m2\u001b[0m\u001b[1;33m,\u001b[0m\u001b[1;33m\u001b[0m\u001b[0m\n\u001b[1;32m--> 135\u001b[1;33m                            pool_s = 2)\n\u001b[0m\u001b[0;32m    136\u001b[0m \u001b[1;33m\u001b[0m\u001b[0m\n\u001b[0;32m    137\u001b[0m         \u001b[1;33m[\u001b[0m\u001b[0mdf1_\u001b[0m\u001b[1;33m,\u001b[0m \u001b[0mdf2_\u001b[0m\u001b[1;33m,\u001b[0m \u001b[0mdw3_\u001b[0m\u001b[1;33m,\u001b[0m \u001b[0mdw4_\u001b[0m\u001b[1;33m,\u001b[0m \u001b[0mdb1_\u001b[0m\u001b[1;33m,\u001b[0m \u001b[0mdb2_\u001b[0m\u001b[1;33m,\u001b[0m \u001b[0mdb3_\u001b[0m\u001b[1;33m,\u001b[0m \u001b[0mdb4_\u001b[0m\u001b[1;33m]\u001b[0m \u001b[1;33m=\u001b[0m \u001b[0mgrads\u001b[0m\u001b[1;33m\u001b[0m\u001b[0m\n",
      "\u001b[1;32m~\\Documents\\Element Logiciel traitement données massives\\Rendu\\CNN\\network.py\u001b[0m in \u001b[0;36mconv\u001b[1;34m(image, label, params, conv_s, pool_f, pool_s)\u001b[0m\n\u001b[0;32m     25\u001b[0m     \u001b[1;31m############## Forward Operation ###############\u001b[0m\u001b[1;33m\u001b[0m\u001b[1;33m\u001b[0m\u001b[0m\n\u001b[0;32m     26\u001b[0m     \u001b[1;31m################################################\u001b[0m\u001b[1;33m\u001b[0m\u001b[1;33m\u001b[0m\u001b[0m\n\u001b[1;32m---> 27\u001b[1;33m     \u001b[0mconv1\u001b[0m \u001b[1;33m=\u001b[0m \u001b[0mconvolution\u001b[0m\u001b[1;33m(\u001b[0m\u001b[0mimage\u001b[0m\u001b[1;33m,\u001b[0m \u001b[0mf1\u001b[0m\u001b[1;33m,\u001b[0m \u001b[0mb1\u001b[0m\u001b[1;33m,\u001b[0m \u001b[0mconv_s\u001b[0m\u001b[1;33m)\u001b[0m \u001b[1;31m# convolution operation\u001b[0m\u001b[1;33m\u001b[0m\u001b[0m\n\u001b[0m\u001b[0;32m     28\u001b[0m     \u001b[0mconv1\u001b[0m\u001b[1;33m[\u001b[0m\u001b[0mconv1\u001b[0m\u001b[1;33m<=\u001b[0m\u001b[1;36m0\u001b[0m\u001b[1;33m]\u001b[0m \u001b[1;33m=\u001b[0m \u001b[1;36m0\u001b[0m \u001b[1;31m# pass through ReLU non-linearity\u001b[0m\u001b[1;33m\u001b[0m\u001b[0m\n\u001b[0;32m     29\u001b[0m \u001b[1;33m\u001b[0m\u001b[0m\n",
      "\u001b[1;32m~\\Documents\\Element Logiciel traitement données massives\\Rendu\\CNN\\forward.py\u001b[0m in \u001b[0;36mconvolution\u001b[1;34m(image, filt, bias, s)\u001b[0m\n\u001b[0;32m     34\u001b[0m             \u001b[0mcurr_x\u001b[0m \u001b[1;33m=\u001b[0m \u001b[0mout_x\u001b[0m \u001b[1;33m=\u001b[0m \u001b[1;36m0\u001b[0m\u001b[1;33m\u001b[0m\u001b[0m\n\u001b[0;32m     35\u001b[0m             \u001b[1;32mwhile\u001b[0m \u001b[0mcurr_x\u001b[0m \u001b[1;33m+\u001b[0m \u001b[0mf\u001b[0m \u001b[1;33m<=\u001b[0m \u001b[0min_dim\u001b[0m\u001b[1;33m:\u001b[0m\u001b[1;33m\u001b[0m\u001b[0m\n\u001b[1;32m---> 36\u001b[1;33m                 \u001b[0mout\u001b[0m\u001b[1;33m[\u001b[0m\u001b[0mcurr_f\u001b[0m\u001b[1;33m,\u001b[0m \u001b[0mout_y\u001b[0m\u001b[1;33m,\u001b[0m \u001b[0mout_x\u001b[0m\u001b[1;33m]\u001b[0m \u001b[1;33m=\u001b[0m \u001b[0mnp\u001b[0m\u001b[1;33m.\u001b[0m\u001b[0msum\u001b[0m\u001b[1;33m(\u001b[0m\u001b[0mfilt\u001b[0m\u001b[1;33m[\u001b[0m\u001b[0mcurr_f\u001b[0m\u001b[1;33m]\u001b[0m \u001b[1;33m*\u001b[0m \u001b[0mimage\u001b[0m\u001b[1;33m[\u001b[0m\u001b[1;33m:\u001b[0m\u001b[1;33m,\u001b[0m\u001b[0mcurr_y\u001b[0m\u001b[1;33m:\u001b[0m\u001b[0mcurr_y\u001b[0m\u001b[1;33m+\u001b[0m\u001b[0mf\u001b[0m\u001b[1;33m,\u001b[0m \u001b[0mcurr_x\u001b[0m\u001b[1;33m:\u001b[0m\u001b[0mcurr_x\u001b[0m\u001b[1;33m+\u001b[0m\u001b[0mf\u001b[0m\u001b[1;33m]\u001b[0m\u001b[1;33m)\u001b[0m\u001b[1;33m\u001b[0m\u001b[0m\n\u001b[0m\u001b[0;32m     37\u001b[0m                 \u001b[1;32mif\u001b[0m \u001b[0mbias\u001b[0m\u001b[1;33m[\u001b[0m\u001b[0mcurr_f\u001b[0m\u001b[1;33m]\u001b[0m\u001b[1;33m:\u001b[0m\u001b[1;33m\u001b[0m\u001b[0m\n\u001b[0;32m     38\u001b[0m                     \u001b[0mout\u001b[0m\u001b[1;33m[\u001b[0m\u001b[0mcurr_f\u001b[0m\u001b[1;33m,\u001b[0m \u001b[0mout_y\u001b[0m\u001b[1;33m,\u001b[0m \u001b[0mout_x\u001b[0m\u001b[1;33m]\u001b[0m \u001b[1;33m+=\u001b[0m \u001b[0mbias\u001b[0m\u001b[1;33m[\u001b[0m\u001b[0mcurr_f\u001b[0m\u001b[1;33m]\u001b[0m\u001b[1;33m\u001b[0m\u001b[0m\n",
      "\u001b[1;32m~\\Anaconda3\\lib\\site-packages\\numpy\\core\\fromnumeric.py\u001b[0m in \u001b[0;36msum\u001b[1;34m(a, axis, dtype, out, keepdims)\u001b[0m\n\u001b[0;32m   1728\u001b[0m \u001b[1;33m\u001b[0m\u001b[0m\n\u001b[0;32m   1729\u001b[0m \u001b[1;33m\u001b[0m\u001b[0m\n\u001b[1;32m-> 1730\u001b[1;33m \u001b[1;32mdef\u001b[0m \u001b[0msum\u001b[0m\u001b[1;33m(\u001b[0m\u001b[0ma\u001b[0m\u001b[1;33m,\u001b[0m \u001b[0maxis\u001b[0m\u001b[1;33m=\u001b[0m\u001b[1;32mNone\u001b[0m\u001b[1;33m,\u001b[0m \u001b[0mdtype\u001b[0m\u001b[1;33m=\u001b[0m\u001b[1;32mNone\u001b[0m\u001b[1;33m,\u001b[0m \u001b[0mout\u001b[0m\u001b[1;33m=\u001b[0m\u001b[1;32mNone\u001b[0m\u001b[1;33m,\u001b[0m \u001b[0mkeepdims\u001b[0m\u001b[1;33m=\u001b[0m\u001b[0mnp\u001b[0m\u001b[1;33m.\u001b[0m\u001b[0m_NoValue\u001b[0m\u001b[1;33m)\u001b[0m\u001b[1;33m:\u001b[0m\u001b[1;33m\u001b[0m\u001b[0m\n\u001b[0m\u001b[0;32m   1731\u001b[0m     \"\"\"\n\u001b[0;32m   1732\u001b[0m     \u001b[0mSum\u001b[0m \u001b[0mof\u001b[0m \u001b[0marray\u001b[0m \u001b[0melements\u001b[0m \u001b[0mover\u001b[0m \u001b[0ma\u001b[0m \u001b[0mgiven\u001b[0m \u001b[0maxis\u001b[0m\u001b[1;33m.\u001b[0m\u001b[1;33m\u001b[0m\u001b[0m\n",
      "\u001b[1;31mKeyboardInterrupt\u001b[0m: "
     ]
    }
   ],
   "source": [
    "train_cnn_np(lr = 0.01, img_dim = 28, img_depth = 1, f = f1[-1], num_filt1 = f1[0],\n",
    "             num_filt2 = f2[0], batch_size = BATCH_SIZE, num_epochs = NUM_EPOCHS, m =5000)"
   ]
  },
  {
   "cell_type": "markdown",
   "metadata": {},
   "source": [
    "### Numba"
   ]
  },
  {
   "cell_type": "code",
   "execution_count": 3,
   "metadata": {},
   "outputs": [
    {
     "name": "stdout",
     "output_type": "stream",
     "text": [
      "Extracting train-labels-idx1-ubyte.gz\n"
     ]
    }
   ],
   "source": [
    "from Nb_cnn.network_3 import train_cnn_nb"
   ]
  },
  {
   "cell_type": "code",
   "execution_count": 11,
   "metadata": {},
   "outputs": [
    {
     "name": "stdout",
     "output_type": "stream",
     "text": [
      "Learning Rate = 0.035\n",
      "Number of epochs = 1\n",
      "Batch Size = 32\n",
      "Extracting train-labels-idx1-ubyte.gz\n"
     ]
    },
    {
     "data": {
      "image/png": "[encoded data removed]",
      "text/plain": [
       "<matplotlib.figure.Figure at 0x1f247e824a8>"
      ]
     },
     "metadata": {
      "needs_background": "light"
     },
     "output_type": "display_data"
    },
    {
     "name": "stdout",
     "output_type": "stream",
     "text": [
      "Train Data size = 5000\n",
      "Weights shapes = [(8, 1, 5, 5), (8, 1), (8, 8, 5, 5), (8, 1), (128, 800), (10, 128)]\n",
      "Number of weights = [200, 8, 1600, 8, 102400, 1280] Total = 105496\n"
     ]
    },
    {
     "name": "stderr",
     "output_type": "stream",
     "text": [
      "100%|████████████████████████████████████████████████████████████████████████████████| 157/157 [00:46<00:00,  3.36it/s]\n"
     ]
    }
   ],
   "source": [
    "train_cnn_nb(lr = 0.035, m = 5000,\n",
    "             img_dim = 28, NUM_EPOCHS = NUM_EPOCHS, batch_size = BATCH_SIZE,\n",
    "             nb_classes = nb_classes, f1 = f1, f2 = f2, p3 = p3, w4 = w4,\n",
    "             test_results = False)"
   ]
  },
  {
   "cell_type": "markdown",
   "metadata": {},
   "source": [
    "### Keras"
   ]
  },
  {
   "cell_type": "code",
   "execution_count": 64,
   "metadata": {},
   "outputs": [],
   "source": [
    "import keras\n",
    "from keras.utils import to_categorical\n",
    "from keras.models import Sequential, Model\n",
    "from keras.layers import Input, Dense, Reshape, Flatten\n",
    "from keras.layers.convolutional import Conv2D, MaxPooling2D\n",
    "from keras.layers.advanced_activations import ReLU\n",
    "from keras.optimizers import Adam"
   ]
  },
  {
   "cell_type": "code",
   "execution_count": 65,
   "metadata": {},
   "outputs": [
    {
     "name": "stdout",
     "output_type": "stream",
     "text": [
      "Extracting train-labels-idx1-ubyte.gz\n"
     ]
    }
   ],
   "source": [
    "from Nb_cnn.utils import extract_data, extract_labels\n",
    "X = extract_data('train-images-idx3-ubyte.gz', 5000, 28); X-= int(np.mean(X)); X/= np.std(X)\n",
    "y_dash = extract_labels('train-labels-idx1-ubyte.gz', 5000).reshape(5000,1)\n",
    "train_data = np.hstack((X,y_dash))\n",
    "np.random.shuffle(train_data)\n",
    "X_train = train_data[:,:-1].reshape(5000,28,28,1)\n",
    "y_train = to_categorical(train_data[:,-1].reshape(5000,1))"
   ]
  },
  {
   "cell_type": "code",
   "execution_count": 66,
   "metadata": {},
   "outputs": [
    {
     "name": "stdout",
     "output_type": "stream",
     "text": [
      "_________________________________________________________________\n",
      "Layer (type)                 Output Shape              Param #   \n",
      "=================================================================\n",
      "conv2d_12 (Conv2D)           (None, 24, 24, 8)         208       \n",
      "_________________________________________________________________\n",
      "re_lu_21 (ReLU)              (None, 24, 24, 8)         0         \n",
      "_________________________________________________________________\n",
      "conv2d_13 (Conv2D)           (None, 20, 20, 8)         1608      \n",
      "_________________________________________________________________\n",
      "re_lu_22 (ReLU)              (None, 20, 20, 8)         0         \n",
      "_________________________________________________________________\n",
      "max_pooling2d_6 (MaxPooling2 (None, 10, 10, 8)         0         \n",
      "_________________________________________________________________\n",
      "re_lu_23 (ReLU)              (None, 10, 10, 8)         0         \n",
      "_________________________________________________________________\n",
      "flatten_6 (Flatten)          (None, 800)               0         \n",
      "_________________________________________________________________\n",
      "dense_11 (Dense)             (None, 128)               102400    \n",
      "_________________________________________________________________\n",
      "re_lu_24 (ReLU)              (None, 128)               0         \n",
      "_________________________________________________________________\n",
      "dense_12 (Dense)             (None, 10)                1280      \n",
      "=================================================================\n",
      "Total params: 105,496\n",
      "Trainable params: 105,496\n",
      "Non-trainable params: 0\n",
      "_________________________________________________________________\n"
     ]
    }
   ],
   "source": [
    "def build_model(summa = False):\n",
    "\n",
    "    model = Sequential()\n",
    "    \n",
    "    model.add(Conv2D(filters = f1[0], kernel_size = (f1[2], f1[3])))\n",
    "    model.add(ReLU())\n",
    "    model.add(Conv2D(filters = f2[0], kernel_size = (f2[2], f2[3])))\n",
    "    model.add(ReLU())\n",
    "    model.add(MaxPooling2D(pool_size=(p3, p3)))\n",
    "    model.add(ReLU())\n",
    "    model.add(Flatten())\n",
    "    model.add(Dense(128, use_bias=False))\n",
    "    model.add(ReLU())\n",
    "    model.add(Dense(nb_classes, activation=\"softmax\", use_bias=False))\n",
    "    picture = Input(shape=(28,28,1))\n",
    "    pred_prob = model(picture)\n",
    "    if summa == True:\n",
    "        model.summary()\n",
    "    return Model(picture, pred_prob)\n",
    "\n",
    "model = build_model(summa = True)"
   ]
  },
  {
   "cell_type": "code",
   "execution_count": 67,
   "metadata": {},
   "outputs": [
    {
     "name": "stdout",
     "output_type": "stream",
     "text": [
      "Epoch 1/1\n",
      "5000/5000 [==============================] - ETA: 14:08 - loss: 2.37 - ETA: 2:18 - loss: 2.2106 - ETA: 56s - loss: 1.883 - ETA: 36s - loss: 1.63 - ETA: 24s - loss: 1.40 - ETA: 18s - loss: 1.21 - ETA: 14s - loss: 1.11 - ETA: 11s - loss: 1.02 - ETA: 9s - loss: 0.9489 - ETA: 8s - loss: 0.890 - ETA: 6s - loss: 0.845 - ETA: 5s - loss: 0.793 - ETA: 4s - loss: 0.751 - ETA: 3s - loss: 0.717 - ETA: 3s - loss: 0.687 - ETA: 2s - loss: 0.654 - ETA: 1s - loss: 0.634 - ETA: 1s - loss: 0.609 - ETA: 1s - loss: 0.583 - ETA: 0s - loss: 0.566 - ETA: 0s - loss: 0.549 - 7s 1ms/step - loss: 0.5371\n"
     ]
    },
    {
     "data": {
      "text/plain": [
       "<keras.callbacks.History at 0x1f268ce4908>"
      ]
     },
     "execution_count": 67,
     "metadata": {},
     "output_type": "execute_result"
    }
   ],
   "source": [
    "model.compile(loss=keras.losses.categorical_crossentropy,\n",
    "              optimizer=Adam(0.001,  0.00001))\n",
    "\n",
    "model.fit(X_train, y_train,\n",
    "          batch_size=BATCH_SIZE,\n",
    "          epochs=NUM_EPOCHS,\n",
    "          verbose=1)"
   ]
  },
  {
   "cell_type": "markdown",
   "metadata": {},
   "source": [
    "The Keras implementation is by very far the fastest !"
   ]
  },
  {
   "cell_type": "markdown",
   "metadata": {},
   "source": [
    "## Running it until it converges"
   ]
  },
  {
   "cell_type": "markdown",
   "metadata": {},
   "source": [
    "__The purpose of this section is to prove that our CNN does in fact converge__"
   ]
  },
  {
   "cell_type": "code",
   "execution_count": 4,
   "metadata": {},
   "outputs": [
    {
     "name": "stdout",
     "output_type": "stream",
     "text": [
      "Learning Rate = 0.035\n",
      "Number of epochs = 3\n",
      "Batch Size = 32\n",
      "Extracting train-labels-idx1-ubyte.gz\n"
     ]
    },
    {
     "data": {
      "image/png": "[encoded data removed]",
      "text/plain": [
       "<matplotlib.figure.Figure at 0x1220012a668>"
      ]
     },
     "metadata": {
      "needs_background": "light"
     },
     "output_type": "display_data"
    },
    {
     "name": "stdout",
     "output_type": "stream",
     "text": [
      "Train Data size = 8976\n",
      "Weights shapes = [(8, 1, 5, 5), (8, 1), (8, 8, 5, 5), (8, 1), (128, 800), (10, 128)]\n",
      "Number of weights = [200, 8, 1600, 8, 102400, 1280] Total = 105496\n"
     ]
    },
    {
     "name": "stderr",
     "output_type": "stream",
     "text": [
      "Cost: 2.30087082:  12%|███████▊                                                       | 35/281 [00:13<01:31,  2.68it/s]"
     ]
    },
    {
     "ename": "KeyboardInterrupt",
     "evalue": "",
     "output_type": "error",
     "traceback": [
      "\u001b[1;31m---------------------------------------------------------------------------\u001b[0m",
      "\u001b[1;31mKeyboardInterrupt\u001b[0m                         Traceback (most recent call last)",
      "\u001b[1;32m<ipython-input-4-e5ddeb8fcdb8>\u001b[0m in \u001b[0;36m<module>\u001b[1;34m()\u001b[0m\n\u001b[0;32m      2\u001b[0m              \u001b[0mimg_dim\u001b[0m \u001b[1;33m=\u001b[0m \u001b[1;36m28\u001b[0m\u001b[1;33m,\u001b[0m \u001b[0mNUM_EPOCHS\u001b[0m \u001b[1;33m=\u001b[0m \u001b[1;36m3\u001b[0m\u001b[1;33m,\u001b[0m \u001b[0mbatch_size\u001b[0m \u001b[1;33m=\u001b[0m \u001b[1;36m32\u001b[0m\u001b[1;33m,\u001b[0m\u001b[1;33m\u001b[0m\u001b[0m\n\u001b[0;32m      3\u001b[0m              \u001b[0mnb_classes\u001b[0m \u001b[1;33m=\u001b[0m \u001b[0mnb_classes\u001b[0m\u001b[1;33m,\u001b[0m \u001b[0mf1\u001b[0m \u001b[1;33m=\u001b[0m \u001b[0mf1\u001b[0m\u001b[1;33m,\u001b[0m \u001b[0mf2\u001b[0m \u001b[1;33m=\u001b[0m \u001b[0mf2\u001b[0m\u001b[1;33m,\u001b[0m \u001b[0mp3\u001b[0m \u001b[1;33m=\u001b[0m \u001b[0mp3\u001b[0m\u001b[1;33m,\u001b[0m \u001b[0mw4\u001b[0m \u001b[1;33m=\u001b[0m \u001b[0mw4\u001b[0m\u001b[1;33m,\u001b[0m\u001b[1;33m\u001b[0m\u001b[0m\n\u001b[1;32m----> 4\u001b[1;33m              test_results = True)\n\u001b[0m",
      "\u001b[1;32m~\\Documents\\Element Logiciel traitement données massives\\Rendu\\Nb_cnn\\network_3.py\u001b[0m in \u001b[0;36mtrain_cnn_nb\u001b[1;34m(lr, m, img_dim, NUM_EPOCHS, batch_size, nb_classes, f1, f2, p3, w4, test_results)\u001b[0m\n\u001b[0;32m    215\u001b[0m                 \u001b[0mder_filt_2_throught_batch\u001b[0m \u001b[1;33m+=\u001b[0m \u001b[0md_der_filter_2\u001b[0m\u001b[1;33m\u001b[0m\u001b[0m\n\u001b[0;32m    216\u001b[0m                 \u001b[0mder_b2_throught_batch\u001b[0m \u001b[1;33m+=\u001b[0m \u001b[0md_der_b2\u001b[0m\u001b[1;33m\u001b[0m\u001b[0m\n\u001b[1;32m--> 217\u001b[1;33m                 \u001b[0mder_weight_4_throught_batch\u001b[0m \u001b[1;33m+=\u001b[0m \u001b[0md_der_weight_4\u001b[0m\u001b[1;33m\u001b[0m\u001b[0m\n\u001b[0m\u001b[0;32m    218\u001b[0m                 \u001b[0mder_weight_5_throught_batch\u001b[0m \u001b[1;33m+=\u001b[0m \u001b[0md_der_weight_5\u001b[0m\u001b[1;33m\u001b[0m\u001b[0m\n\u001b[0;32m    219\u001b[0m \u001b[1;33m\u001b[0m\u001b[0m\n",
      "\u001b[1;32m~\\Anaconda3\\lib\\site-packages\\numba\\cuda\\cudadrv\\devicearray.py\u001b[0m in \u001b[0;36m__array__\u001b[1;34m(self, dtype)\u001b[0m\n\u001b[0;32m    418\u001b[0m         \u001b[1;33m:\u001b[0m\u001b[1;32mreturn\u001b[0m\u001b[1;33m:\u001b[0m \u001b[0man\u001b[0m\u001b[0;31m \u001b[0m\u001b[0;31m`\u001b[0m\u001b[0mnumpy\u001b[0m\u001b[1;33m.\u001b[0m\u001b[0mndarray\u001b[0m\u001b[0;31m`\u001b[0m\u001b[1;33m,\u001b[0m \u001b[0mso\u001b[0m \u001b[0mcopies\u001b[0m \u001b[0mto\u001b[0m \u001b[0mthe\u001b[0m \u001b[0mhost\u001b[0m\u001b[1;33m.\u001b[0m\u001b[1;33m\u001b[0m\u001b[0m\n\u001b[0;32m    419\u001b[0m         \"\"\"\n\u001b[1;32m--> 420\u001b[1;33m         \u001b[1;32mreturn\u001b[0m \u001b[0mself\u001b[0m\u001b[1;33m.\u001b[0m\u001b[0mcopy_to_host\u001b[0m\u001b[1;33m(\u001b[0m\u001b[1;33m)\u001b[0m\u001b[1;33m.\u001b[0m\u001b[0m__array__\u001b[0m\u001b[1;33m(\u001b[0m\u001b[0mdtype\u001b[0m\u001b[1;33m)\u001b[0m\u001b[1;33m\u001b[0m\u001b[0m\n\u001b[0m\u001b[0;32m    421\u001b[0m \u001b[1;33m\u001b[0m\u001b[0m\n\u001b[0;32m    422\u001b[0m     \u001b[1;32mdef\u001b[0m \u001b[0m__len__\u001b[0m\u001b[1;33m(\u001b[0m\u001b[0mself\u001b[0m\u001b[1;33m)\u001b[0m\u001b[1;33m:\u001b[0m\u001b[1;33m\u001b[0m\u001b[0m\n",
      "\u001b[1;32m~\\Anaconda3\\lib\\site-packages\\numba\\cuda\\cudadrv\\devices.py\u001b[0m in \u001b[0;36m_require_cuda_context\u001b[1;34m(*args, **kws)\u001b[0m\n\u001b[0;32m    210\u001b[0m     \u001b[1;32mdef\u001b[0m \u001b[0m_require_cuda_context\u001b[0m\u001b[1;33m(\u001b[0m\u001b[1;33m*\u001b[0m\u001b[0margs\u001b[0m\u001b[1;33m,\u001b[0m \u001b[1;33m**\u001b[0m\u001b[0mkws\u001b[0m\u001b[1;33m)\u001b[0m\u001b[1;33m:\u001b[0m\u001b[1;33m\u001b[0m\u001b[0m\n\u001b[0;32m    211\u001b[0m         \u001b[0mget_context\u001b[0m\u001b[1;33m(\u001b[0m\u001b[1;33m)\u001b[0m\u001b[1;33m\u001b[0m\u001b[0m\n\u001b[1;32m--> 212\u001b[1;33m         \u001b[1;32mreturn\u001b[0m \u001b[0mfn\u001b[0m\u001b[1;33m(\u001b[0m\u001b[1;33m*\u001b[0m\u001b[0margs\u001b[0m\u001b[1;33m,\u001b[0m \u001b[1;33m**\u001b[0m\u001b[0mkws\u001b[0m\u001b[1;33m)\u001b[0m\u001b[1;33m\u001b[0m\u001b[0m\n\u001b[0m\u001b[0;32m    213\u001b[0m \u001b[1;33m\u001b[0m\u001b[0m\n\u001b[0;32m    214\u001b[0m     \u001b[1;32mreturn\u001b[0m \u001b[0m_require_cuda_context\u001b[0m\u001b[1;33m\u001b[0m\u001b[0m\n",
      "\u001b[1;32m~\\Anaconda3\\lib\\site-packages\\numba\\cuda\\cudadrv\\devicearray.py\u001b[0m in \u001b[0;36mcopy_to_host\u001b[1;34m(self, ary, stream)\u001b[0m\n\u001b[0;32m    250\u001b[0m         \u001b[1;32massert\u001b[0m \u001b[0mself\u001b[0m\u001b[1;33m.\u001b[0m\u001b[0malloc_size\u001b[0m \u001b[1;33m>=\u001b[0m \u001b[1;36m0\u001b[0m\u001b[1;33m,\u001b[0m \u001b[1;34m\"Negative memory size\"\u001b[0m\u001b[1;33m\u001b[0m\u001b[0m\n\u001b[0;32m    251\u001b[0m         \u001b[1;32mif\u001b[0m \u001b[0mself\u001b[0m\u001b[1;33m.\u001b[0m\u001b[0malloc_size\u001b[0m \u001b[1;33m!=\u001b[0m \u001b[1;36m0\u001b[0m\u001b[1;33m:\u001b[0m\u001b[1;33m\u001b[0m\u001b[0m\n\u001b[1;32m--> 252\u001b[1;33m             \u001b[0m_driver\u001b[0m\u001b[1;33m.\u001b[0m\u001b[0mdevice_to_host\u001b[0m\u001b[1;33m(\u001b[0m\u001b[0mhostary\u001b[0m\u001b[1;33m,\u001b[0m \u001b[0mself\u001b[0m\u001b[1;33m,\u001b[0m \u001b[0mself\u001b[0m\u001b[1;33m.\u001b[0m\u001b[0malloc_size\u001b[0m\u001b[1;33m,\u001b[0m \u001b[0mstream\u001b[0m\u001b[1;33m=\u001b[0m\u001b[0mstream\u001b[0m\u001b[1;33m)\u001b[0m\u001b[1;33m\u001b[0m\u001b[0m\n\u001b[0m\u001b[0;32m    253\u001b[0m \u001b[1;33m\u001b[0m\u001b[0m\n\u001b[0;32m    254\u001b[0m         \u001b[1;32mif\u001b[0m \u001b[0mary\u001b[0m \u001b[1;32mis\u001b[0m \u001b[1;32mNone\u001b[0m\u001b[1;33m:\u001b[0m\u001b[1;33m\u001b[0m\u001b[0m\n",
      "\u001b[1;32m~\\Anaconda3\\lib\\site-packages\\numba\\cuda\\cudadrv\\driver.py\u001b[0m in \u001b[0;36mdevice_to_host\u001b[1;34m(dst, src, size, stream)\u001b[0m\n\u001b[0;32m   1825\u001b[0m         \u001b[0mfn\u001b[0m \u001b[1;33m=\u001b[0m \u001b[0mdriver\u001b[0m\u001b[1;33m.\u001b[0m\u001b[0mcuMemcpyDtoH\u001b[0m\u001b[1;33m\u001b[0m\u001b[0m\n\u001b[0;32m   1826\u001b[0m \u001b[1;33m\u001b[0m\u001b[0m\n\u001b[1;32m-> 1827\u001b[1;33m     \u001b[0mfn\u001b[0m\u001b[1;33m(\u001b[0m\u001b[0mhost_pointer\u001b[0m\u001b[1;33m(\u001b[0m\u001b[0mdst\u001b[0m\u001b[1;33m)\u001b[0m\u001b[1;33m,\u001b[0m \u001b[0mdevice_pointer\u001b[0m\u001b[1;33m(\u001b[0m\u001b[0msrc\u001b[0m\u001b[1;33m)\u001b[0m\u001b[1;33m,\u001b[0m \u001b[0msize\u001b[0m\u001b[1;33m,\u001b[0m \u001b[1;33m*\u001b[0m\u001b[0mvarargs\u001b[0m\u001b[1;33m)\u001b[0m\u001b[1;33m\u001b[0m\u001b[0m\n\u001b[0m\u001b[0;32m   1828\u001b[0m \u001b[1;33m\u001b[0m\u001b[0m\n\u001b[0;32m   1829\u001b[0m \u001b[1;33m\u001b[0m\u001b[0m\n",
      "\u001b[1;32m~\\Anaconda3\\lib\\site-packages\\numba\\cuda\\cudadrv\\driver.py\u001b[0m in \u001b[0;36msafe_cuda_api_call\u001b[1;34m(*args)\u001b[0m\n\u001b[0;32m    287\u001b[0m         \u001b[1;32mdef\u001b[0m \u001b[0msafe_cuda_api_call\u001b[0m\u001b[1;33m(\u001b[0m\u001b[1;33m*\u001b[0m\u001b[0margs\u001b[0m\u001b[1;33m)\u001b[0m\u001b[1;33m:\u001b[0m\u001b[1;33m\u001b[0m\u001b[0m\n\u001b[0;32m    288\u001b[0m             \u001b[0m_logger\u001b[0m\u001b[1;33m.\u001b[0m\u001b[0mdebug\u001b[0m\u001b[1;33m(\u001b[0m\u001b[1;34m'call driver api: %s'\u001b[0m\u001b[1;33m,\u001b[0m \u001b[0mlibfn\u001b[0m\u001b[1;33m.\u001b[0m\u001b[0m__name__\u001b[0m\u001b[1;33m)\u001b[0m\u001b[1;33m\u001b[0m\u001b[0m\n\u001b[1;32m--> 289\u001b[1;33m             \u001b[0mretcode\u001b[0m \u001b[1;33m=\u001b[0m \u001b[0mlibfn\u001b[0m\u001b[1;33m(\u001b[0m\u001b[1;33m*\u001b[0m\u001b[0margs\u001b[0m\u001b[1;33m)\u001b[0m\u001b[1;33m\u001b[0m\u001b[0m\n\u001b[0m\u001b[0;32m    290\u001b[0m             \u001b[0mself\u001b[0m\u001b[1;33m.\u001b[0m\u001b[0m_check_error\u001b[0m\u001b[1;33m(\u001b[0m\u001b[0mfname\u001b[0m\u001b[1;33m,\u001b[0m \u001b[0mretcode\u001b[0m\u001b[1;33m)\u001b[0m\u001b[1;33m\u001b[0m\u001b[0m\n\u001b[0;32m    291\u001b[0m         \u001b[1;32mreturn\u001b[0m \u001b[0msafe_cuda_api_call\u001b[0m\u001b[1;33m\u001b[0m\u001b[0m\n",
      "\u001b[1;31mKeyboardInterrupt\u001b[0m: "
     ]
    }
   ],
   "source": [
    "train_cnn_nb(lr = 0.035, m = 10000,\n",
    "             img_dim = 28, NUM_EPOCHS = 3, batch_size = 32,\n",
    "             nb_classes = nb_classes, f1 = f1, f2 = f2, p3 = p3, w4 = w4,\n",
    "             test_results = True)"
   ]
  }
 ],
 "metadata": {
  "kernelspec": {
   "display_name": "Python 3",
   "language": "python",
   "name": "python3"
  },
  "language_info": {
   "codemirror_mode": {
    "name": "ipython",
    "version": 3
   },
   "file_extension": ".py",
   "mimetype": "text/x-python",
   "name": "python",
   "nbconvert_exporter": "python",
   "pygments_lexer": "ipython3",
   "version": "3.6.4"
  }
 },
 "nbformat": 4,
 "nbformat_minor": 2
}
